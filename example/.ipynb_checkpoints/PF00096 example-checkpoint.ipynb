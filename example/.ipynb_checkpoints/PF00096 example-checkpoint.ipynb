{
 "cells": [
  {
   "cell_type": "markdown",
   "metadata": {},
   "source": [
    "# Example with PF00096\n",
    "\n",
    "#### In this example, we will\n",
    "1. Check that a BM inferred DCA model fits statistics found in natural sequences\n",
    "2. Make a PPV curve for contact prediction\n",
    "3. Look at energies of sampled DCA sequences and of natural sequences\n",
    "\n",
    "#### Data used: \n",
    "1. MSA of PF00096 family, in numerical format. Here, the format is the one outputted by Christoph's MCMC code: gap is 0, A is 1, etc ... and a one line header with M L q. \n",
    "2. Inferred DCA parameters. Format is the one used as input to Christoph's MCMC code: `J i j a b val`.\n",
    "3. Structural distance between residues. File is dlm readable, with format `i j distance`.\n",
    "4. MC sample of model in 2., format same as 1."
   ]
  },
  {
   "cell_type": "markdown",
   "metadata": {},
   "source": [
    "### Module loading and data unpacking"
   ]
  },
  {
   "cell_type": "code",
   "execution_count": null,
   "metadata": {},
   "outputs": [],
   "source": [
    "push!(LOAD_PATH, \"../src\");"
   ]
  },
  {
   "cell_type": "code",
   "execution_count": null,
   "metadata": {},
   "outputs": [],
   "source": [
    "using DCATools\n",
    "using Plots\n",
    "using DelimitedFiles\n",
    "\n",
    "pyplot()"
   ]
  },
  {
   "cell_type": "code",
   "execution_count": null,
   "metadata": {},
   "outputs": [],
   "source": [
    "run(`tar xf PF00096.tar.gz PF00096`)"
   ]
  },
  {
   "cell_type": "markdown",
   "metadata": {},
   "source": [
    "### Comparing frequencies in natural alignment and in DCA sample\n",
    "- For the natural sequences, we want reweighting, and we want to save the weights for further use\n",
    "- In the sampled sequences, we just want frequencies"
   ]
  },
  {
   "cell_type": "code",
   "execution_count": null,
   "metadata": {},
   "outputs": [],
   "source": [
    "# This takes a bit of time since weights have to be computed for a huge alignment\n",
    "@time f1nat, f2nat = computefreqs(\"PF00096/msa_PF00096.txt\", computew=true, saveweights=\"PF00096/weights_PF00096.txt\", header=true, format=0)\n",
    "\n",
    "f1dca, f2dca = computefreqs(\"PF00096/MC_samples_PF00096.txt\", header=true, format=0)"
   ]
  },
  {
   "cell_type": "code",
   "execution_count": null,
   "metadata": {},
   "outputs": [],
   "source": [
    "scatter(vec(f2nat), vec(f2dca), xlabel=\"nat f2\", ylabel=\"dca f2\")"
   ]
  },
  {
   "cell_type": "markdown",
   "metadata": {},
   "source": [
    "That looks good.\n",
    "\n",
    "Let's take a look at correlations"
   ]
  },
  {
   "cell_type": "code",
   "execution_count": null,
   "metadata": {},
   "outputs": [],
   "source": [
    "cnat = f2nat - f1nat*f1nat'\n",
    "cdca = f2dca - f1dca*f1dca';"
   ]
  },
  {
   "cell_type": "code",
   "execution_count": null,
   "metadata": {},
   "outputs": [],
   "source": [
    "scatter(vec(cnat), vec(cdca), xlabel=\"C nat\", ylabel=\"C dca\")"
   ]
  },
  {
   "cell_type": "markdown",
   "metadata": {},
   "source": [
    "BM works well, correlations are fitted with a high accuracy.\n",
    "\n",
    "For a more significant result, one should set to 0 diagonal blocks of correlation matrices, since those depend only on single site frequencies"
   ]
  },
  {
   "cell_type": "markdown",
   "metadata": {},
   "source": [
    "### Contact prediction\n",
    "1. Read distances from file\n",
    "2. Read couplings\n",
    "3. Compute scores with and without APC\n",
    "4. PPV curve"
   ]
  },
  {
   "cell_type": "code",
   "execution_count": null,
   "metadata": {},
   "outputs": [],
   "source": [
    "distances = DelimitedFiles.readdlm(\"PF00096/PF00096_contacts.txt\");"
   ]
  },
  {
   "cell_type": "code",
   "execution_count": null,
   "metadata": {},
   "outputs": [],
   "source": [
    "# This takes a bit of time because of the format\n",
    "@time gdca = readparam(\"PF00096/parameters_PF00096.txt\", format=\"mcmc\")\n",
    "# Let's store it in a matrix format for future use\n",
    "writeparam(\"PF00096/parameters_PF00096_mat.txt\", gdca, format=\"mat\")"
   ]
  },
  {
   "cell_type": "code",
   "execution_count": null,
   "metadata": {},
   "outputs": [],
   "source": [
    "g_Fapc = Fapc(gdca.J, 21)\n",
    "g_F = Fapc(gdca.J, 21, APC=false);"
   ]
  },
  {
   "cell_type": "code",
   "execution_count": null,
   "metadata": {},
   "outputs": [],
   "source": [
    "ppv_apc = PPV(g_Fapc, distances);\n",
    "ppv_noapc = PPV(g_F, distances);"
   ]
  },
  {
   "cell_type": "code",
   "execution_count": null,
   "metadata": {},
   "outputs": [],
   "source": [
    "A = rand(10,10)\n",
    "sortslices(g_F,dims=1,by=x->x[3])"
   ]
  },
  {
   "cell_type": "code",
   "execution_count": null,
   "metadata": {},
   "outputs": [],
   "source": [
    "plot(ppv_apc, label=\"with APC\")\n",
    "plot!(ppv_noapc, label=\"without APC\")\n",
    "plot!(xlabel=\"# of predictions\", ylabel=\"TP fraction\")"
   ]
  },
  {
   "cell_type": "code",
   "execution_count": null,
   "metadata": {},
   "outputs": [],
   "source": []
  },
  {
   "cell_type": "markdown",
   "metadata": {},
   "source": [
    "### Looking at energies\n",
    "Energies of natural sequences and sampled sequences"
   ]
  },
  {
   "cell_type": "code",
   "execution_count": null,
   "metadata": {},
   "outputs": [],
   "source": [
    "# Let's read alignments \n",
    "nat = readmsanum(\"PF00096/msa_PF00096.txt\", format=0, header=true)\n",
    "dcaseqs = readmsanum(\"PF00096/MC_samples_PF00096.txt\", format=0, header=true);"
   ]
  },
  {
   "cell_type": "code",
   "execution_count": null,
   "metadata": {},
   "outputs": [],
   "source": [
    "Enat = computeenergies(gdca, nat)\n",
    "Edca = computeenergies(gdca, dcaseqs)"
   ]
  },
  {
   "cell_type": "code",
   "execution_count": null,
   "metadata": {},
   "outputs": [],
   "source": [
    "histogram(Enat, label=\"Natura \")"
   ]
  }
 ],
 "metadata": {
  "kernelspec": {
   "display_name": "Julia 0.7.0",
   "language": "julia",
   "name": "julia-0.7"
  },
  "language_info": {
   "file_extension": ".jl",
   "mimetype": "application/julia",
   "name": "julia",
   "version": "0.7.0"
  }
 },
 "nbformat": 4,
 "nbformat_minor": 2
}
